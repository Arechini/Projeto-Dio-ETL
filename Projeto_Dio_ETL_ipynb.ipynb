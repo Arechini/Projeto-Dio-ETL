{
  "nbformat": 4,
  "nbformat_minor": 0,
  "metadata": {
    "colab": {
      "provenance": [],
      "authorship_tag": "ABX9TyMMCOoeJLGgm6T0LI7tR8/V",
      "include_colab_link": true
    },
    "kernelspec": {
      "name": "python3",
      "display_name": "Python 3"
    },
    "language_info": {
      "name": "python"
    }
  },
  "cells": [
    {
      "cell_type": "markdown",
      "metadata": {
        "id": "view-in-github",
        "colab_type": "text"
      },
      "source": [
        "<a href=\"https://colab.research.google.com/github/Arechini/Projeto-Dio-ETL/blob/main/Projeto_Dio_ETL_ipynb.ipynb\" target=\"_parent\"><img src=\"https://colab.research.google.com/assets/colab-badge.svg\" alt=\"Open In Colab\"/></a>"
      ]
    },
    {
      "cell_type": "code",
      "execution_count": 7,
      "metadata": {
        "id": "ml9YsyFL2QBD"
      },
      "outputs": [],
      "source": [
        "import pandas as pd"
      ]
    },
    {
      "cell_type": "code",
      "source": [
        "\n",
        "df = pd.read_excel(\"Teste_quartel.xlsx\")\n",
        "df[\"Vai se apresentar ao quartel esse ano\"] = \"Não\"\n",
        "df.loc[df[\"Age\"] == 18, \"Vai se apresentar ao quartel esse ano\"] =  \"Sim\"\n",
        "print(df)\n"
      ],
      "metadata": {
        "colab": {
          "base_uri": "https://localhost:8080/"
        },
        "id": "gpK7jd_n5Ptr",
        "outputId": "5a21f4fc-d852-48ac-95ea-6785e0fdbc9d"
      },
      "execution_count": 8,
      "outputs": [
        {
          "output_type": "stream",
          "name": "stdout",
          "text": [
            "   GivenName     Surname  Age Vai se apresentar ao quartel esse ano\n",
            "0    Douglas        Dias   45                                   Não\n",
            "1       Cauã    Carvalho   32                                   Não\n",
            "2    Gabriel     Ribeiro   18                                   Sim\n",
            "3     Miguel   Fernandes    7                                   Não\n",
            "4     Rafael      Araujo   10                                   Não\n",
            "5      Kauan       Silva    8                                   Não\n",
            "6       Kaua     Martins    7                                   Não\n",
            "7      Erick     Cardoso   45                                   Não\n",
            "8       Igor     Martins   18                                   Sim\n",
            "9       Igor       Sousa   27                                   Não\n",
            "10     Erick     Almeida   29                                   Não\n",
            "11      Davi    Oliveira   28                                   Não\n",
            "12      Alex      Castro   28                                   Não\n",
            "13    Otávio        Dias   38                                   Não\n",
            "14      José        Lima   18                                   Sim\n",
            "15      Kauã        Dias   35                                   Não\n",
            "16      Igor       Silva   25                                   Não\n",
            "17      Luiz       Cunha   18                                   Sim\n",
            "18    Rafael      Castro   19                                   Não\n",
            "19   Estevan       Costa   25                                   Não\n",
            "20     Diogo      Santos   36                                   Não\n",
            "21     Tiago    Carvalho   11                                   Não\n",
            "22     Kauan     Martins   20                                   Não\n",
            "23     Bruno    Ferreira   28                                   Não\n",
            "24     Diogo     Correia   37                                   Não\n",
            "25      Luis     Correia   22                                   Não\n",
            "26       Kai     Cardoso   12                                   Não\n",
            "27     Diogo     Almeida   18                                   Sim\n",
            "28     Lucas      Araujo   35                                   Não\n",
            "29    Arthur    Ferreira   35                                   Não\n",
            "30    Victor       Costa    4                                   Não\n",
            "31  Leonardo     Correia   26                                   Não\n",
            "32    Otávio      Santos   12                                   Não\n",
            "33  Nicolash    Ferreira   11                                   Não\n",
            "34     Lucas        Melo   41                                   Não\n",
            "35     Júlio       Sousa   37                                   Não\n",
            "36    Arthur     Correia   28                                   Não\n",
            "37      Caio       Gomes   19                                   Não\n",
            "38  Leonardo    Carvalho   32                                   Não\n",
            "39     Diogo      Barros   12                                   Não\n",
            "40    Martim      Castro   23                                   Não\n",
            "41    Arthur     Azevedo   28                                   Não\n",
            "42   Rodrigo  Cavalcanti   24                                   Não\n",
            "43      Cauã    Carvalho   45                                   Não\n",
            "44      Kaua     Cardoso   38                                   Não\n",
            "45   Matheus       Pinto   35                                   Não\n",
            "46      Davi     Ribeiro   17                                   Não\n",
            "47    Marcos     Correia   43                                   Não\n",
            "48     Diogo     Azevedo   41                                   Não\n",
            "49    Mateus       Pinto   34                                   Não\n"
          ]
        }
      ]
    }
  ]
}